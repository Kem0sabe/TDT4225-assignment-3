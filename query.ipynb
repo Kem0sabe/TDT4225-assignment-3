{
 "cells": [
  {
   "cell_type": "code",
   "execution_count": 77,
   "metadata": {},
   "outputs": [
    {
     "name": "stdout",
     "output_type": "stream",
     "text": [
      "Requirement already satisfied: pymongo in c:\\users\\marti\\appdata\\local\\programs\\python\\python39\\lib\\site-packages (4.5.0)\n",
      "Requirement already satisfied: dnspython<3.0.0,>=1.16.0 in c:\\users\\marti\\appdata\\local\\programs\\python\\python39\\lib\\site-packages (from pymongo) (2.4.2)\n"
     ]
    }
   ],
   "source": [
    "!pip install pymongo"
   ]
  },
  {
   "cell_type": "code",
   "execution_count": 152,
   "metadata": {},
   "outputs": [],
   "source": [
    "from pymongo import MongoClient\n",
    "from tabulate import tabulate\n",
    "import datetime\n",
    "from haversine import haversine\n",
    "from collections import Counter\n",
    "# Connect to the MongoDB server running on localhost at the default port 27017\n",
    "client = MongoClient('mongodb://localhost:27017/')\n"
   ]
  },
  {
   "cell_type": "code",
   "execution_count": 79,
   "metadata": {},
   "outputs": [
    {
     "data": {
      "text/plain": [
       "Database(MongoClient(host=['localhost:27017'], document_class=dict, tz_aware=False, connect=True), 'test_db')"
      ]
     },
     "execution_count": 79,
     "metadata": {},
     "output_type": "execute_result"
    }
   ],
   "source": [
    "# Create or access a database called 'mydatabase'\n",
    "db = client['test_db']\n",
    "db"
   ]
  },
  {
   "cell_type": "code",
   "execution_count": 80,
   "metadata": {},
   "outputs": [],
   "source": [
    "user = db[\"user\"]\n",
    "activity = db[\"activity\"]\n",
    "trackpoint = db[\"trackpoint\"]"
   ]
  },
  {
   "cell_type": "markdown",
   "metadata": {},
   "source": [
    "### 1. How many users, activities and trackpoints are there in the dataset (after it is inserted into the database)."
   ]
  },
  {
   "cell_type": "code",
   "execution_count": 81,
   "metadata": {},
   "outputs": [
    {
     "name": "stdout",
     "output_type": "stream",
     "text": [
      "Number of users: 182 , Number of activities: 16030 , Number of trackpoints: 9636851\n"
     ]
    }
   ],
   "source": [
    "user_count = user.count_documents({})\n",
    "activity_count = activity.count_documents({})\n",
    "trackpoint_count = trackpoint.count_documents({})\n",
    "print(\"Number of users:\",user_count, \", Number of activities:\", activity_count, \", Number of trackpoints:\",trackpoint_count)"
   ]
  },
  {
   "cell_type": "markdown",
   "metadata": {},
   "source": [
    "### 2. Find the average number of activities per user"
   ]
  },
  {
   "cell_type": "code",
   "execution_count": 82,
   "metadata": {},
   "outputs": [
    {
     "data": {
      "text/plain": [
       "92.65895953757226"
      ]
     },
     "execution_count": 82,
     "metadata": {},
     "output_type": "execute_result"
    }
   ],
   "source": [
    "\n",
    "pipeline = [\n",
    "    {\n",
    "        \"$group\": {\n",
    "            \"_id\": \"$user_id\",\n",
    "            \"count\": {\"$sum\": 1}\n",
    "        }\n",
    "    },\n",
    "    {\n",
    "        \"$group\": {\n",
    "            \"_id\": None,\n",
    "            \"average_activities_per_user\": {\"$avg\": \"$count\"}\n",
    "        }\n",
    "    }\n",
    "]\n",
    "\n",
    "result = activity.aggregate(pipeline)\n",
    "average = next(result, None)[\"average_activities_per_user\"]\n",
    "average\n"
   ]
  },
  {
   "cell_type": "markdown",
   "metadata": {},
   "source": [
    "### 3. Find the top 20 users with the highest number of activities. "
   ]
  },
  {
   "cell_type": "code",
   "execution_count": 83,
   "metadata": {},
   "outputs": [
    {
     "name": "stdout",
     "output_type": "stream",
     "text": [
      "+-----+-------+\n",
      "| _id | count |\n",
      "+-----+-------+\n",
      "| 128 | 2101  |\n",
      "| 153 | 1791  |\n",
      "| 025 |  715  |\n",
      "| 163 |  704  |\n",
      "| 062 |  691  |\n",
      "| 144 |  563  |\n",
      "| 041 |  398  |\n",
      "| 085 |  364  |\n",
      "| 004 |  346  |\n",
      "| 140 |  345  |\n",
      "| 167 |  320  |\n",
      "| 068 |  278  |\n",
      "| 017 |  265  |\n",
      "| 003 |  261  |\n",
      "| 014 |  232  |\n",
      "| 126 |  215  |\n",
      "| 030 |  210  |\n",
      "| 112 |  208  |\n",
      "| 011 |  201  |\n",
      "| 039 |  198  |\n",
      "+-----+-------+\n"
     ]
    }
   ],
   "source": [
    "pipeline = [\n",
    "    {\n",
    "        \"$group\": {\n",
    "            \"_id\": \"$user_id\",\n",
    "            \"count\": {\"$sum\": 1}\n",
    "        }\n",
    "    },\n",
    "    {\n",
    "        \"$sort\": {\"count\": -1}\n",
    "    },\n",
    "    {\n",
    "        \"$limit\": 20\n",
    "    }\n",
    "]\n",
    "\n",
    "result3 = activity.aggregate(pipeline)\n",
    "print(tabulate(result3, headers=\"keys\", tablefmt=\"pretty\"))"
   ]
  },
  {
   "cell_type": "markdown",
   "metadata": {},
   "source": [
    "### 4. Find all users who have taken a taxi. "
   ]
  },
  {
   "cell_type": "code",
   "execution_count": 84,
   "metadata": {},
   "outputs": [
    {
     "name": "stdout",
     "output_type": "stream",
     "text": [
      "+-----+\n",
      "| _id |\n",
      "+-----+\n",
      "| 098 |\n",
      "| 128 |\n",
      "| 163 |\n",
      "| 058 |\n",
      "| 010 |\n",
      "| 062 |\n",
      "| 078 |\n",
      "| 080 |\n",
      "| 111 |\n",
      "| 085 |\n",
      "+-----+\n"
     ]
    }
   ],
   "source": [
    "pipeline = [\n",
    "    {\n",
    "        \"$match\": {\"transportation_mode\": \"taxi\"}\n",
    "    },\n",
    "    {\n",
    "        \"$group\": {\n",
    "            \"_id\": \"$user_id\",\n",
    "        }\n",
    "    }\n",
    "]\n",
    "\n",
    "result4 = activity.aggregate(pipeline)\n",
    "print(tabulate(result4, headers=\"keys\", tablefmt=\"pretty\"))"
   ]
  },
  {
   "cell_type": "markdown",
   "metadata": {},
   "source": [
    "### 5. Find all types of transportation modes and count how many activities that are tagged with these transportation mode labels. Do not count the rows where the mode is null."
   ]
  },
  {
   "cell_type": "code",
   "execution_count": 85,
   "metadata": {},
   "outputs": [
    {
     "name": "stdout",
     "output_type": "stream",
     "text": [
      "+----------+-------+\n",
      "|   _id    | count |\n",
      "+----------+-------+\n",
      "|   walk   |  481  |\n",
      "|   car    |  419  |\n",
      "|   bike   |  262  |\n",
      "|   bus    |  199  |\n",
      "|  subway  |  133  |\n",
      "|   taxi   |  37   |\n",
      "| airplane |   3   |\n",
      "|  train   |   2   |\n",
      "|   boat   |   1   |\n",
      "|   run    |   1   |\n",
      "+----------+-------+\n"
     ]
    }
   ],
   "source": [
    "pipeline = [\n",
    "    {\n",
    "        \"$match\": {\"transportation_mode\": {\"$ne\": None}}\n",
    "    },\n",
    "    {\n",
    "        \"$group\": {\n",
    "            \"_id\": \"$transportation_mode\",\n",
    "            \"count\": {\"$sum\": 1}\n",
    "        }\n",
    "    },\n",
    "    {\n",
    "        \"$sort\": {\"count\": -1}\n",
    "    }\n",
    "]\n",
    "\n",
    "result5 = activity.aggregate(pipeline)\n",
    "print(tabulate(result5, headers=\"keys\", tablefmt=\"pretty\"))\n"
   ]
  },
  {
   "cell_type": "markdown",
   "metadata": {},
   "source": [
    "### 6. a) Find the year with the most activities. \n",
    "We assume that if an activity starts in a year, it is to be conted as in that year. In practice, this changes nothing, but there is a teoretical chance of someone starting an activity in one year, and ending it in the next."
   ]
  },
  {
   "cell_type": "code",
   "execution_count": 86,
   "metadata": {},
   "outputs": [
    {
     "name": "stdout",
     "output_type": "stream",
     "text": [
      "The year with the most activities was 2008\n"
     ]
    }
   ],
   "source": [
    "pipeline = [\n",
    "    {\n",
    "        \"$project\": {\n",
    "            \"year\": {\"$year\": \"$start_date_time\"}\n",
    "        }\n",
    "    },\n",
    "    {\n",
    "        \"$group\": {\n",
    "            \"_id\": \"$year\",\n",
    "            \"count\": {\"$sum\": 1}\n",
    "        }\n",
    "    },\n",
    "    {\n",
    "        \"$sort\": {\"count\": -1}\n",
    "    },\n",
    "    {\n",
    "        \"$limit\": 1\n",
    "    }\n",
    "]\n",
    "\n",
    "result6a = activity.aggregate(pipeline)\n",
    "year_most = next(result6a,None)[\"_id\"]\n",
    "print(\"The year with the most activities was\", year_most)"
   ]
  },
  {
   "cell_type": "markdown",
   "metadata": {},
   "source": [
    "### b) Is this also the year with most recorded hours?\n",
    "Sorting them by total time, we see that 2009 had more total time. To conclude 2008 did not have the most logged hours."
   ]
  },
  {
   "cell_type": "code",
   "execution_count": 87,
   "metadata": {},
   "outputs": [
    {
     "name": "stdout",
     "output_type": "stream",
     "text": [
      "+------+\n",
      "| _id  |\n",
      "+------+\n",
      "| 2009 |\n",
      "| 2008 |\n",
      "| 2007 |\n",
      "| 2010 |\n",
      "| 2011 |\n",
      "| 2012 |\n",
      "| 2000 |\n",
      "+------+\n"
     ]
    }
   ],
   "source": [
    "pipeline = [\n",
    "    {\n",
    "        \"$project\": {\n",
    "            \"year\": {\"$year\": \"$start_date_time\"},\n",
    "            \"duration\": {\n",
    "                \"$subtract\": [\"$end_date_time\", \"$start_date_time\"]\n",
    "            }\n",
    "        }\n",
    "    },\n",
    "    {\n",
    "        \"$group\": {\n",
    "            \"_id\": \"$year\",\n",
    "            \"count\": {\"$sum\": 1},\n",
    "            \"total_time\": {\"$sum\": \"$duration\"}\n",
    "        }\n",
    "    },\n",
    "    {\n",
    "        \"$sort\": {\"total_time\": -1}\n",
    "    },\n",
    "    {\n",
    "        \"$project\": {\n",
    "            \"_id\": 1\n",
    "        }\n",
    "    }\n",
    "]\n",
    "\n",
    "result6b = activity.aggregate(pipeline)\n",
    "print(tabulate(result6b, headers=\"keys\", tablefmt=\"pretty\"))\n"
   ]
  },
  {
   "cell_type": "markdown",
   "metadata": {},
   "source": [
    "### 7. Find the total distance (in km) walked in 2008, by user with id=112."
   ]
  },
  {
   "cell_type": "code",
   "execution_count": 88,
   "metadata": {},
   "outputs": [],
   "source": [
    "\n",
    "\n",
    "activities_found = activity.find({\n",
    "            \"user_id\": {\"$eq\": \"112\"},\n",
    "            \"transportation_mode\": {\"$eq\": \"walk\"},\n",
    "            \"start_date_time\": {\"$gte\": datetime.datetime(2008, 1, 1), \"$lt\": datetime.datetime(2009, 1, 1)},\n",
    "            })\n",
    "\n",
    "activity_ids = [act[\"_id\"] for act in activities_found] \n"
   ]
  },
  {
   "cell_type": "code",
   "execution_count": 94,
   "metadata": {},
   "outputs": [
    {
     "name": "stdout",
     "output_type": "stream",
     "text": [
      "The total distance in km is: 115.47465961507991\n"
     ]
    }
   ],
   "source": [
    "total_distance = 0.0\n",
    "\n",
    "for activity_id in activity_ids:\n",
    "    trackpoints = list(trackpoint.find({\"activity_id\": {\"$eq\": activity_id}}))\n",
    "    for i in range(1, len(trackpoints)):\n",
    "        lat1, lon1 = trackpoints[i-1]['lat'], trackpoints[i-1]['lon']\n",
    "        lat2, lon2 = trackpoints[i]['lat'], trackpoints[i]['lon']\n",
    "        total_distance += haversine((lat1, lon1), (lat2, lon2))\n",
    "\n",
    "\n",
    "print(\"The total distance in km is:\",total_distance)"
   ]
  },
  {
   "cell_type": "markdown",
   "metadata": {},
   "source": [
    "### 8. Find the top 20 users who have gained the most altitude meters."
   ]
  },
  {
   "cell_type": "code",
   "execution_count": 95,
   "metadata": {},
   "outputs": [],
   "source": [
    "all_activities = activity.find({},{\"_id\": 1})\n",
    "all_activity_ids = [act[\"_id\"] for act in all_activities] \n",
    "\n",
    "activity_gain = {}\n",
    "for activity_id in all_activity_ids:\n",
    "    activity_gain[activity_id] = 0\n",
    "    trackpoints = list(trackpoint.find({\"activity_id\": {\"$eq\": activity_id}}))\n",
    "    for i in range(1, len(trackpoints)):\n",
    "        difference = trackpoints[i]['altitude'] - trackpoints[i-1]['altitude']\n",
    "        if difference > 0: activity_gain[activity_id] += difference\n",
    "        "
   ]
  },
  {
   "cell_type": "code",
   "execution_count": 96,
   "metadata": {},
   "outputs": [
    {
     "name": "stdout",
     "output_type": "stream",
     "text": [
      "+---------+--------------------+\n",
      "| user_id |   total gain (m)   |\n",
      "+---------+--------------------+\n",
      "|  4426   |      107752.5      |\n",
      "|  10484  |      107493.3      |\n",
      "|  4578   |      79724.5       |\n",
      "|  4816   | 72030.70000000003  |\n",
      "|  11272  | 68936.70000000003  |\n",
      "|  11682  | 55823.399999999994 |\n",
      "|  8438   | 55652.887139107675 |\n",
      "|  5529   | 52905.70000000005  |\n",
      "|  4872   | 49425.899999999994 |\n",
      "|  4452   | 49330.500000000015 |\n",
      "|  4117   | 46591.60000000003  |\n",
      "|  12296  |      46207.3       |\n",
      "|  9734   | 44904.99999999999  |\n",
      "|  7892   |      44645.6       |\n",
      "|  9743   |      43139.7       |\n",
      "|  12288  | 43038.20000000004  |\n",
      "|  9922   | 42850.99999999998  |\n",
      "|  9934   | 42414.099999999904 |\n",
      "|  9726   | 42136.40000000003  |\n",
      "|  10980  | 41863.899999999965 |\n",
      "+---------+--------------------+\n"
     ]
    }
   ],
   "source": [
    "top20 = sorted(activity_gain.items(), key= lambda x: x[1],reverse = True)[:20]\n",
    "\n",
    "print(tabulate(top20, headers=[\"user_id\",\"total gain (m)\"], tablefmt=\"pretty\"))"
   ]
  },
  {
   "cell_type": "markdown",
   "metadata": {},
   "source": [
    "### "
   ]
  },
  {
   "cell_type": "markdown",
   "metadata": {},
   "source": [
    "### 9. Find all users who have invalid activities, and the number of invalid activities per user"
   ]
  },
  {
   "cell_type": "code",
   "execution_count": 175,
   "metadata": {},
   "outputs": [],
   "source": [
    "pipeline = [\n",
    "    {\"$sort\": {\"date\": 1}}\n",
    "]\n",
    "trackpoints_sorted = trackpoint.aggregate(pipeline)\n",
    "\n",
    "illegal_activities = set()\n",
    "prev_point = None\n",
    "for point in trackpoints_sorted:\n",
    "    if prev_point == None: \n",
    "        prev_point = point\n",
    "        continue\n",
    "    timediff = (point[\"date\"] - prev_point[\"date\"]).total_seconds()\n",
    "    if timediff > 60 * 5 and point[\"activity_id\"] == prev_point[\"activity_id\"]:  # 5 minuttes\n",
    "        illegal_activities.add(point[\"activity_id\"])\n",
    "    prev_point = point\n"
   ]
  },
  {
   "cell_type": "code",
   "execution_count": 190,
   "metadata": {},
   "outputs": [
    {
     "name": "stdout",
     "output_type": "stream",
     "text": [
      "+-----+-------+\n",
      "| _id | count |\n",
      "+-----+-------+\n",
      "| 010 |  25   |\n",
      "| 111 |  22   |\n",
      "| 173 |   2   |\n",
      "| 035 |  11   |\n",
      "| 067 |  31   |\n",
      "| 028 |   6   |\n",
      "| 121 |   4   |\n",
      "| 142 |  35   |\n",
      "| 119 |  13   |\n",
      "| 002 |  21   |\n",
      "| 086 |   4   |\n",
      "| 131 |   6   |\n",
      "| 176 |   5   |\n",
      "| 107 |   1   |\n",
      "| 096 |   8   |\n",
      "| 036 |  10   |\n",
      "| 164 |   2   |\n",
      "| 072 |   2   |\n",
      "| 138 |  10   |\n",
      "| 168 |  12   |\n",
      "| 030 |  36   |\n",
      "| 078 |  11   |\n",
      "| 062 |  132  |\n",
      "| 146 |   1   |\n",
      "| 026 |   4   |\n",
      "| 008 |   3   |\n",
      "| 022 |  21   |\n",
      "| 003 |  25   |\n",
      "| 000 |   5   |\n",
      "| 084 |  25   |\n",
      "| 016 |   5   |\n",
      "| 063 |   8   |\n",
      "| 043 |   5   |\n",
      "| 033 |   1   |\n",
      "| 015 |   4   |\n",
      "| 112 |  43   |\n",
      "| 040 |   2   |\n",
      "| 034 |  22   |\n",
      "| 082 |  14   |\n",
      "| 152 |   1   |\n",
      "| 179 |   5   |\n",
      "| 042 |  13   |\n",
      "| 144 |  61   |\n",
      "| 041 |  57   |\n",
      "| 013 |   8   |\n",
      "| 090 |   3   |\n",
      "| 098 |   5   |\n",
      "| 069 |   3   |\n",
      "| 032 |   3   |\n",
      "| 147 |  30   |\n",
      "| 105 |   6   |\n",
      "| 068 |  43   |\n",
      "| 020 |  17   |\n",
      "| 081 |   2   |\n",
      "| 060 |   1   |\n",
      "| 038 |  15   |\n",
      "| 061 |   6   |\n",
      "| 091 |  55   |\n",
      "| 099 |  11   |\n",
      "| 056 |   4   |\n",
      "| 050 |   5   |\n",
      "| 106 |   3   |\n",
      "| 130 |   8   |\n",
      "| 133 |   3   |\n",
      "| 103 |  13   |\n",
      "| 021 |   7   |\n",
      "| 001 |  10   |\n",
      "| 125 |   6   |\n",
      "| 023 |   6   |\n",
      "| 083 |  12   |\n",
      "| 053 |   3   |\n",
      "| 045 |   6   |\n",
      "| 167 |  39   |\n",
      "| 165 |   1   |\n",
      "| 155 |  10   |\n",
      "| 046 |   6   |\n",
      "| 074 |  18   |\n",
      "| 101 |  33   |\n",
      "| 080 |   5   |\n",
      "| 134 |  25   |\n",
      "| 174 |  34   |\n",
      "| 047 |   3   |\n",
      "| 132 |   3   |\n",
      "| 097 |  10   |\n",
      "| 017 |  42   |\n",
      "| 118 |   2   |\n",
      "| 139 |   7   |\n",
      "| 073 |   6   |\n",
      "| 145 |   3   |\n",
      "| 066 |   5   |\n",
      "| 102 |  11   |\n",
      "| 012 |   4   |\n",
      "| 014 |  24   |\n",
      "| 048 |   1   |\n",
      "| 018 |   6   |\n",
      "| 129 |   3   |\n",
      "| 141 |   1   |\n",
      "| 154 |   8   |\n",
      "| 044 |   7   |\n",
      "| 157 |   7   |\n",
      "| 171 |   3   |\n",
      "| 004 |  67   |\n",
      "| 051 |  29   |\n",
      "| 077 |   3   |\n",
      "| 172 |   4   |\n",
      "| 135 |   3   |\n",
      "| 175 |   3   |\n",
      "| 180 |   1   |\n",
      "| 100 |   2   |\n",
      "| 076 |   7   |\n",
      "| 117 |   2   |\n",
      "| 019 |   6   |\n",
      "| 007 |  10   |\n",
      "| 071 |  27   |\n",
      "| 055 |   3   |\n",
      "| 029 |   1   |\n",
      "| 166 |   1   |\n",
      "| 123 |   3   |\n",
      "| 025 |  75   |\n",
      "| 104 |  80   |\n",
      "| 009 |   4   |\n",
      "| 095 |   2   |\n",
      "| 122 |   5   |\n",
      "| 126 |  19   |\n",
      "| 128 |  474  |\n",
      "| 024 |   6   |\n",
      "| 159 |   5   |\n",
      "| 058 |   7   |\n",
      "| 052 |  31   |\n",
      "| 087 |   1   |\n",
      "| 054 |   1   |\n",
      "| 089 |  22   |\n",
      "| 039 |  33   |\n",
      "| 092 |  80   |\n",
      "| 151 |   1   |\n",
      "| 065 |  23   |\n",
      "| 181 |  11   |\n",
      "| 011 |   3   |\n",
      "| 115 |  37   |\n",
      "| 005 |  13   |\n",
      "| 085 |  69   |\n",
      "| 037 |  30   |\n",
      "| 110 |   9   |\n",
      "| 140 |  29   |\n",
      "| 153 |  298  |\n",
      "| 161 |   4   |\n",
      "| 162 |   1   |\n",
      "| 163 |  133  |\n",
      "| 169 |   4   |\n",
      "| 136 |   2   |\n",
      "+-----+-------+\n"
     ]
    }
   ],
   "source": [
    "pipeline = [\n",
    "    {\n",
    "        \"$match\": {\n",
    "            \"_id\": {\"$in\": list(illegal_activities)}\n",
    "        }\n",
    "    },\n",
    "    {\n",
    "        \"$group\": {\n",
    "            \"_id\": \"$user_id\",\n",
    "            \"count\": {\"$sum\": 1}\n",
    "        }\n",
    "    }\n",
    "]\n",
    "\n",
    "result9 = activity.aggregate(pipeline)\n",
    "print(tabulate(result9, headers=\"keys\", tablefmt=\"pretty\"))"
   ]
  },
  {
   "cell_type": "markdown",
   "metadata": {},
   "source": [
    "### 10.Find the users who have tracked an activity in the Forbidden City of Beijing."
   ]
  },
  {
   "cell_type": "code",
   "execution_count": 120,
   "metadata": {},
   "outputs": [
    {
     "name": "stdout",
     "output_type": "stream",
     "text": [
      "+-----+-------------------+\n",
      "| _id | number_of_illegal |\n",
      "+-----+-------------------+\n",
      "| 004 |         1         |\n",
      "| 018 |         3         |\n",
      "| 131 |         1         |\n",
      "+-----+-------------------+\n"
     ]
    }
   ],
   "source": [
    "beijing_lat = 39.916\n",
    "beijing_lon = 116.397\n",
    "buffer = 0.0005\n",
    "\n",
    "pipeline = [\n",
    "    {\n",
    "        \"$match\": {\n",
    "            \"lat\": {\"$gte\": beijing_lat - buffer, \"$lte\": beijing_lat + buffer},\n",
    "            \"lon\": {\"$gte\": beijing_lon - buffer, \"$lte\": beijing_lon + buffer}\n",
    "        }\n",
    "    },\n",
    "    {\n",
    "        \"$group\": {\n",
    "            \"_id\": \"$activity_id\"\n",
    "        }\n",
    "    },\n",
    "    {\n",
    "        \"$lookup\": {\n",
    "            \"from\": \"activity\",\n",
    "            \"localField\": \"_id\",\n",
    "            \"foreignField\": \"_id\",\n",
    "            \"as\": \"activity_info\"\n",
    "        }\n",
    "    },\n",
    "    {\n",
    "        \"$unwind\": \"$activity_info\"\n",
    "    },\n",
    "    {\n",
    "        \"$replaceRoot\": { \"newRoot\": \"$activity_info\" }\n",
    "    },\n",
    "    {\n",
    "        \"$group\": {\n",
    "            \"_id\": \"$user_id\",\n",
    "            \"number_of_illegal\": {\"$sum\": 1}\n",
    "        }\n",
    "    }\n",
    "]\n",
    "\n",
    "result10 = trackpoint.aggregate(pipeline)\n",
    "\n",
    "print(tabulate(result10, headers=\"keys\", tablefmt=\"pretty\"))"
   ]
  },
  {
   "cell_type": "markdown",
   "metadata": {},
   "source": [
    "### 11.Find all users who have registered transportation_mode and their most used transportation_mode. "
   ]
  },
  {
   "cell_type": "code",
   "execution_count": 148,
   "metadata": {},
   "outputs": [
    {
     "name": "stdout",
     "output_type": "stream",
     "text": [
      "+-----+-----------+\n",
      "| _id | most_used |\n",
      "+-----+-----------+\n",
      "| 010 |   taxi    |\n",
      "| 020 |   bike    |\n",
      "| 021 |   walk    |\n",
      "| 052 |    bus    |\n",
      "| 056 |   bike    |\n",
      "| 058 |    car    |\n",
      "| 060 |   walk    |\n",
      "| 062 |    bus    |\n",
      "| 064 |   bike    |\n",
      "| 065 |   bike    |\n",
      "| 067 |   walk    |\n",
      "| 069 |   bike    |\n",
      "| 073 |   walk    |\n",
      "| 075 |   walk    |\n",
      "| 076 |    car    |\n",
      "| 078 |   walk    |\n",
      "| 080 |   taxi    |\n",
      "| 081 |   bike    |\n",
      "| 082 |   walk    |\n",
      "| 084 |   walk    |\n",
      "| 085 |   walk    |\n",
      "| 086 |    car    |\n",
      "| 087 |   walk    |\n",
      "| 089 |    car    |\n",
      "| 091 |   walk    |\n",
      "| 092 |   walk    |\n",
      "| 097 |   bike    |\n",
      "| 098 |   taxi    |\n",
      "| 101 |    car    |\n",
      "| 102 |   bike    |\n",
      "| 107 |   walk    |\n",
      "| 108 |   walk    |\n",
      "| 111 |   taxi    |\n",
      "| 112 |   walk    |\n",
      "| 115 |    car    |\n",
      "| 117 |   walk    |\n",
      "| 125 |   bike    |\n",
      "| 126 |   bike    |\n",
      "| 128 |    car    |\n",
      "| 136 |   walk    |\n",
      "| 138 |   bike    |\n",
      "| 139 |   bike    |\n",
      "| 144 |   walk    |\n",
      "| 153 |   walk    |\n",
      "| 161 |   walk    |\n",
      "| 163 |   bike    |\n",
      "| 167 |   bike    |\n",
      "| 175 |    bus    |\n",
      "+-----+-----------+\n"
     ]
    }
   ],
   "source": [
    "pipeline = [\n",
    "    {\n",
    "        \"$match\": {\"transportation_mode\": {\"$ne\": None}}\n",
    "    },\n",
    "    {\n",
    "        \"$group\": {\n",
    "            \"_id\": {\n",
    "                \"user_id\": \"$user_id\",\n",
    "                \"transportation_mode\": \"$transportation_mode\"\n",
    "            },\n",
    "            \"count\": {\"$sum\": 1}  \n",
    "        }\n",
    "    },\n",
    "    {\n",
    "        \"$sort\": {\n",
    "            \"_id.user_id\": 1,\n",
    "            \"count\": -1 \n",
    "        }\n",
    "    },\n",
    "    {\n",
    "        \"$group\": {\n",
    "            \"_id\": \"$_id.user_id\",\n",
    "            \"most_used\": {\"$first\": \"$_id.transportation_mode\"}\n",
    "        }\n",
    "    },\n",
    "    {\n",
    "        \"$sort\": {\n",
    "            \"_id\": 1 \n",
    "        }\n",
    "    }\n",
    "]\n",
    "\n",
    "result11 = activity.aggregate(pipeline)\n",
    "print(tabulate(result11, headers=\"keys\", tablefmt=\"pretty\"))"
   ]
  }
 ],
 "metadata": {
  "kernelspec": {
   "display_name": "Python 3",
   "language": "python",
   "name": "python3"
  },
  "language_info": {
   "codemirror_mode": {
    "name": "ipython",
    "version": 3
   },
   "file_extension": ".py",
   "mimetype": "text/x-python",
   "name": "python",
   "nbconvert_exporter": "python",
   "pygments_lexer": "ipython3",
   "version": "3.9.6"
  }
 },
 "nbformat": 4,
 "nbformat_minor": 2
}
